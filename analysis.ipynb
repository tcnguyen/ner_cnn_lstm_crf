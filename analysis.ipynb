{
 "cells": [
  {
   "cell_type": "code",
   "execution_count": 1,
   "metadata": {},
   "outputs": [],
   "source": [
    "%load_ext autoreload\n",
    "%autoreload 2"
   ]
  },
  {
   "cell_type": "code",
   "execution_count": 5,
   "metadata": {},
   "outputs": [],
   "source": [
    "import pandas as pd\n",
    "import tensorflow as tf\n",
    "import numpy as np\n",
    "import seaborn as sns\n",
    "\n",
    "from src.config import Config\n",
    "from src.scripts.conlleval import count_chunks, evaluate\n",
    "from src.model.cnn_lstm_crf_model import CharCNNLSTMCRFModel"
   ]
  },
  {
   "cell_type": "markdown",
   "metadata": {},
   "source": [
    "## Trained model"
   ]
  },
  {
   "cell_type": "code",
   "execution_count": 3,
   "metadata": {},
   "outputs": [
    {
     "name": "stderr",
     "output_type": "stream",
     "text": [
      "/home/canh/NLP/NER/ner_cnn_lstm_crf/env/lib/python3.6/site-packages/tensorflow/python/ops/gradients_impl.py:108: UserWarning: Converting sparse IndexedSlices to a dense Tensor of unknown shape. This may consume a large amount of memory.\n",
      "  \"Converting sparse IndexedSlices to a dense Tensor of unknown shape. \"\n",
      "Initializing tf session\n",
      "Loading the trained model from outputs/train/model.weights/\n"
     ]
    },
    {
     "name": "stdout",
     "output_type": "stream",
     "text": [
      "INFO:tensorflow:Restoring parameters from outputs/train/model.weights/\n"
     ]
    },
    {
     "name": "stderr",
     "output_type": "stream",
     "text": [
      "Restoring parameters from outputs/train/model.weights/\n"
     ]
    }
   ],
   "source": [
    "# load pretrained model\n",
    "model = CharCNNLSTMCRFModel()\n",
    "model.build()\n",
    "model.restore_session(Config.dir_model)"
   ]
  },
  {
   "cell_type": "code",
   "execution_count": 11,
   "metadata": {},
   "outputs": [
    {
     "data": {
      "text/plain": [
       "['B-LOC', 'O', 'B-PER', 'I-PER', 'O', 'O', 'B-LOC', 'O']"
      ]
     },
     "execution_count": 11,
     "metadata": {},
     "output_type": "execute_result"
    }
   ],
   "source": [
    "model.predict(\"France president Emmanuel Macron is in US trip\".split())"
   ]
  },
  {
   "cell_type": "markdown",
   "metadata": {},
   "source": [
    "## Test dataset"
   ]
  },
  {
   "cell_type": "code",
   "execution_count": 12,
   "metadata": {},
   "outputs": [
    {
     "data": {
      "text/html": [
       "<div>\n",
       "<style scoped>\n",
       "    .dataframe tbody tr th:only-of-type {\n",
       "        vertical-align: middle;\n",
       "    }\n",
       "\n",
       "    .dataframe tbody tr th {\n",
       "        vertical-align: top;\n",
       "    }\n",
       "\n",
       "    .dataframe thead th {\n",
       "        text-align: right;\n",
       "    }\n",
       "</style>\n",
       "<table border=\"1\" class=\"dataframe\">\n",
       "  <thead>\n",
       "    <tr style=\"text-align: right;\">\n",
       "      <th></th>\n",
       "      <th>word</th>\n",
       "      <th>label</th>\n",
       "      <th>pred</th>\n",
       "    </tr>\n",
       "  </thead>\n",
       "  <tbody>\n",
       "    <tr>\n",
       "      <th>0</th>\n",
       "      <td>SOCCER</td>\n",
       "      <td>O</td>\n",
       "      <td>O</td>\n",
       "    </tr>\n",
       "    <tr>\n",
       "      <th>1</th>\n",
       "      <td>-</td>\n",
       "      <td>O</td>\n",
       "      <td>O</td>\n",
       "    </tr>\n",
       "    <tr>\n",
       "      <th>2</th>\n",
       "      <td>JAPAN</td>\n",
       "      <td>B-LOC</td>\n",
       "      <td>B-LOC</td>\n",
       "    </tr>\n",
       "    <tr>\n",
       "      <th>3</th>\n",
       "      <td>GET</td>\n",
       "      <td>O</td>\n",
       "      <td>O</td>\n",
       "    </tr>\n",
       "    <tr>\n",
       "      <th>4</th>\n",
       "      <td>LUCKY</td>\n",
       "      <td>O</td>\n",
       "      <td>B-PER</td>\n",
       "    </tr>\n",
       "    <tr>\n",
       "      <th>5</th>\n",
       "      <td>WIN</td>\n",
       "      <td>O</td>\n",
       "      <td>O</td>\n",
       "    </tr>\n",
       "    <tr>\n",
       "      <th>6</th>\n",
       "      <td>,</td>\n",
       "      <td>O</td>\n",
       "      <td>O</td>\n",
       "    </tr>\n",
       "    <tr>\n",
       "      <th>7</th>\n",
       "      <td>CHINA</td>\n",
       "      <td>B-PER</td>\n",
       "      <td>B-LOC</td>\n",
       "    </tr>\n",
       "    <tr>\n",
       "      <th>8</th>\n",
       "      <td>IN</td>\n",
       "      <td>O</td>\n",
       "      <td>O</td>\n",
       "    </tr>\n",
       "    <tr>\n",
       "      <th>9</th>\n",
       "      <td>SURPRISE</td>\n",
       "      <td>O</td>\n",
       "      <td>O</td>\n",
       "    </tr>\n",
       "  </tbody>\n",
       "</table>\n",
       "</div>"
      ],
      "text/plain": [
       "       word  label   pred\n",
       "0    SOCCER      O      O\n",
       "1         -      O      O\n",
       "2     JAPAN  B-LOC  B-LOC\n",
       "3       GET      O      O\n",
       "4     LUCKY      O  B-PER\n",
       "5       WIN      O      O\n",
       "6         ,      O      O\n",
       "7     CHINA  B-PER  B-LOC\n",
       "8        IN      O      O\n",
       "9  SURPRISE      O      O"
      ]
     },
     "execution_count": 12,
     "metadata": {},
     "output_type": "execute_result"
    }
   ],
   "source": [
    "df = pd.read_csv('./results/test.preds.txt', sep=' ', header=None,  quoting = 3, names=['word', 'label', 'pred'])\n",
    "df.head(10)"
   ]
  },
  {
   "cell_type": "code",
   "execution_count": 6,
   "metadata": {},
   "outputs": [
    {
     "name": "stdout",
     "output_type": "stream",
     "text": [
      "processed 46435 tokens with 5648 phrases; found: 5707 phrases; correct: 5098.\n",
      "accuracy:  91.57%; (non-O)\n",
      "accuracy:  97.76%; precision:  89.33%; recall:  90.26%; FB1:  89.79\n",
      "              LOC: precision:  90.72%; recall:  93.23%; FB1:  91.96  1714\n",
      "             MISC: precision:  76.54%; recall:  79.49%; FB1:  77.99  729\n",
      "              ORG: precision:  87.11%; recall:  87.06%; FB1:  87.08  1660\n",
      "              PER: precision:  95.95%; recall:  95.18%; FB1:  95.56  1604\n"
     ]
    },
    {
     "data": {
      "text/plain": [
       "(89.32889434028385, 90.26203966005666, 89.79304271246149)"
      ]
     },
     "execution_count": 6,
     "metadata": {},
     "output_type": "execute_result"
    }
   ],
   "source": [
    "evaluate(pred_seqs=df.pred, true_seqs=df.label, verbose=True)"
   ]
  },
  {
   "cell_type": "code",
   "execution_count": 7,
   "metadata": {},
   "outputs": [],
   "source": [
    "def get_wrong_sentences(df):\n",
    "    sents = []\n",
    "\n",
    "    current_sent = []\n",
    "    is_correct = True\n",
    "    \n",
    "    for index, row in df.iterrows():\n",
    "        current_sent.append({'word':row['word'], 'label': row['label'], 'pred':row['pred']})\n",
    "        is_correct = is_correct and (row['pred'] == row['label'])\n",
    "            \n",
    "        if row['word'] == \".\":            \n",
    "            if not is_correct:\n",
    "                sents.extend(current_sent)\n",
    "                \n",
    "            current_sent = []\n",
    "            is_correct = True\n",
    "                \n",
    "    return pd.DataFrame(sents)"
   ]
  },
  {
   "cell_type": "code",
   "execution_count": 8,
   "metadata": {},
   "outputs": [],
   "source": [
    "df_wrong = get_wrong_sentences(df)\n",
    "df_wrong"
   ]
  },
  {
   "cell_type": "markdown",
   "metadata": {},
   "source": [
    "## Transision matrix"
   ]
  },
  {
   "cell_type": "code",
   "execution_count": 14,
   "metadata": {},
   "outputs": [
    {
     "data": {
      "text/plain": [
       "{'B-LOC': 0,\n",
       " 'I-ORG': 1,\n",
       " 'I-LOC': 2,\n",
       " 'O': 3,\n",
       " 'B-MISC': 4,\n",
       " 'I-PER': 5,\n",
       " 'B-ORG': 6,\n",
       " 'B-PER': 7,\n",
       " 'I-MISC': 8}"
      ]
     },
     "execution_count": 14,
     "metadata": {},
     "output_type": "execute_result"
    }
   ],
   "source": [
    "model.features_generator.tag_to_idx"
   ]
  },
  {
   "cell_type": "code",
   "execution_count": 51,
   "metadata": {},
   "outputs": [
    {
     "data": {
      "text/plain": [
       "['B-LOC', 'I-ORG', 'I-LOC', 'O', 'B-MISC', 'I-PER', 'B-ORG', 'B-PER', 'I-MISC']"
      ]
     },
     "execution_count": 51,
     "metadata": {},
     "output_type": "execute_result"
    }
   ],
   "source": [
    "tags = [key for key, value in sorted(model.features_generator.tag_to_idx.items(), key =lambda v: (v[1],v[0]))]\n",
    "tags"
   ]
  },
  {
   "cell_type": "code",
   "execution_count": 52,
   "metadata": {},
   "outputs": [
    {
     "data": {
      "text/html": [
       "<div>\n",
       "<style scoped>\n",
       "    .dataframe tbody tr th:only-of-type {\n",
       "        vertical-align: middle;\n",
       "    }\n",
       "\n",
       "    .dataframe tbody tr th {\n",
       "        vertical-align: top;\n",
       "    }\n",
       "\n",
       "    .dataframe thead th {\n",
       "        text-align: right;\n",
       "    }\n",
       "</style>\n",
       "<table border=\"1\" class=\"dataframe\">\n",
       "  <thead>\n",
       "    <tr style=\"text-align: right;\">\n",
       "      <th></th>\n",
       "      <th>B-LOC</th>\n",
       "      <th>I-ORG</th>\n",
       "      <th>I-LOC</th>\n",
       "      <th>O</th>\n",
       "      <th>B-MISC</th>\n",
       "      <th>I-PER</th>\n",
       "      <th>B-ORG</th>\n",
       "      <th>B-PER</th>\n",
       "      <th>I-MISC</th>\n",
       "    </tr>\n",
       "  </thead>\n",
       "  <tbody>\n",
       "    <tr>\n",
       "      <th>B-LOC</th>\n",
       "      <td>-1.618199</td>\n",
       "      <td>-4.763782</td>\n",
       "      <td>1.444532</td>\n",
       "      <td>-0.267319</td>\n",
       "      <td>-0.013306</td>\n",
       "      <td>-4.025904</td>\n",
       "      <td>-0.207025</td>\n",
       "      <td>-0.944706</td>\n",
       "      <td>-3.881173</td>\n",
       "    </tr>\n",
       "    <tr>\n",
       "      <th>I-ORG</th>\n",
       "      <td>-2.305755</td>\n",
       "      <td>1.098130</td>\n",
       "      <td>-3.223040</td>\n",
       "      <td>-0.547589</td>\n",
       "      <td>-0.643323</td>\n",
       "      <td>-2.901667</td>\n",
       "      <td>-2.790273</td>\n",
       "      <td>-0.900746</td>\n",
       "      <td>-4.106915</td>\n",
       "    </tr>\n",
       "    <tr>\n",
       "      <th>I-LOC</th>\n",
       "      <td>-0.964437</td>\n",
       "      <td>-2.609053</td>\n",
       "      <td>1.049729</td>\n",
       "      <td>0.050310</td>\n",
       "      <td>0.277616</td>\n",
       "      <td>-1.143677</td>\n",
       "      <td>-0.272134</td>\n",
       "      <td>-1.352896</td>\n",
       "      <td>-1.760038</td>\n",
       "    </tr>\n",
       "    <tr>\n",
       "      <th>O</th>\n",
       "      <td>0.548766</td>\n",
       "      <td>-5.330478</td>\n",
       "      <td>-3.410762</td>\n",
       "      <td>0.463098</td>\n",
       "      <td>0.164864</td>\n",
       "      <td>-3.269908</td>\n",
       "      <td>0.356064</td>\n",
       "      <td>0.814850</td>\n",
       "      <td>-4.271561</td>\n",
       "    </tr>\n",
       "    <tr>\n",
       "      <th>B-MISC</th>\n",
       "      <td>-0.033138</td>\n",
       "      <td>-4.062712</td>\n",
       "      <td>-3.318513</td>\n",
       "      <td>0.050983</td>\n",
       "      <td>-1.426718</td>\n",
       "      <td>-3.170748</td>\n",
       "      <td>0.374306</td>\n",
       "      <td>-0.240002</td>\n",
       "      <td>1.790405</td>\n",
       "    </tr>\n",
       "    <tr>\n",
       "      <th>I-PER</th>\n",
       "      <td>-1.281667</td>\n",
       "      <td>-2.139382</td>\n",
       "      <td>-1.178923</td>\n",
       "      <td>0.094655</td>\n",
       "      <td>-1.010966</td>\n",
       "      <td>0.356903</td>\n",
       "      <td>-0.907899</td>\n",
       "      <td>-1.689131</td>\n",
       "      <td>-2.056577</td>\n",
       "    </tr>\n",
       "    <tr>\n",
       "      <th>B-ORG</th>\n",
       "      <td>-1.043540</td>\n",
       "      <td>2.109104</td>\n",
       "      <td>-4.882005</td>\n",
       "      <td>-0.504722</td>\n",
       "      <td>-0.886986</td>\n",
       "      <td>-3.914043</td>\n",
       "      <td>-2.482193</td>\n",
       "      <td>-1.374141</td>\n",
       "      <td>-4.260591</td>\n",
       "    </tr>\n",
       "    <tr>\n",
       "      <th>B-PER</th>\n",
       "      <td>-0.384951</td>\n",
       "      <td>-3.902620</td>\n",
       "      <td>-3.828512</td>\n",
       "      <td>0.184943</td>\n",
       "      <td>-1.080988</td>\n",
       "      <td>1.798162</td>\n",
       "      <td>-1.638041</td>\n",
       "      <td>-3.434614</td>\n",
       "      <td>-2.779956</td>\n",
       "    </tr>\n",
       "    <tr>\n",
       "      <th>I-MISC</th>\n",
       "      <td>-0.968646</td>\n",
       "      <td>-2.814469</td>\n",
       "      <td>-1.766761</td>\n",
       "      <td>-0.276108</td>\n",
       "      <td>-0.394021</td>\n",
       "      <td>-2.243167</td>\n",
       "      <td>0.004656</td>\n",
       "      <td>-0.546013</td>\n",
       "      <td>0.932588</td>\n",
       "    </tr>\n",
       "  </tbody>\n",
       "</table>\n",
       "</div>"
      ],
      "text/plain": [
       "           B-LOC     I-ORG     I-LOC         O    B-MISC     I-PER     B-ORG  \\\n",
       "B-LOC  -1.618199 -4.763782  1.444532 -0.267319 -0.013306 -4.025904 -0.207025   \n",
       "I-ORG  -2.305755  1.098130 -3.223040 -0.547589 -0.643323 -2.901667 -2.790273   \n",
       "I-LOC  -0.964437 -2.609053  1.049729  0.050310  0.277616 -1.143677 -0.272134   \n",
       "O       0.548766 -5.330478 -3.410762  0.463098  0.164864 -3.269908  0.356064   \n",
       "B-MISC -0.033138 -4.062712 -3.318513  0.050983 -1.426718 -3.170748  0.374306   \n",
       "I-PER  -1.281667 -2.139382 -1.178923  0.094655 -1.010966  0.356903 -0.907899   \n",
       "B-ORG  -1.043540  2.109104 -4.882005 -0.504722 -0.886986 -3.914043 -2.482193   \n",
       "B-PER  -0.384951 -3.902620 -3.828512  0.184943 -1.080988  1.798162 -1.638041   \n",
       "I-MISC -0.968646 -2.814469 -1.766761 -0.276108 -0.394021 -2.243167  0.004656   \n",
       "\n",
       "           B-PER    I-MISC  \n",
       "B-LOC  -0.944706 -3.881173  \n",
       "I-ORG  -0.900746 -4.106915  \n",
       "I-LOC  -1.352896 -1.760038  \n",
       "O       0.814850 -4.271561  \n",
       "B-MISC -0.240002  1.790405  \n",
       "I-PER  -1.689131 -2.056577  \n",
       "B-ORG  -1.374141 -4.260591  \n",
       "B-PER  -3.434614 -2.779956  \n",
       "I-MISC -0.546013  0.932588  "
      ]
     },
     "execution_count": 52,
     "metadata": {},
     "output_type": "execute_result"
    }
   ],
   "source": [
    "trans_params = model.sess.run(model.trans_params)\n",
    "df_A = pd.DataFrame(trans_params)\n",
    "df_A.columns = tags\n",
    "df_A.index = tags\n",
    "df_a"
   ]
  },
  {
   "cell_type": "code",
   "execution_count": 59,
   "metadata": {},
   "outputs": [
    {
     "name": "stderr",
     "output_type": "stream",
     "text": [
      "locator: <matplotlib.ticker.MaxNLocator object at 0x7f895705fbe0>\n",
      "Using auto colorbar locator on colorbar\n",
      "locator: <matplotlib.ticker.MaxNLocator object at 0x7f895705fbe0>\n",
      "Setting pcolormesh\n",
      "update_title_pos\n",
      "update_title_pos\n",
      "update_title_pos\n",
      "update_title_pos\n",
      "update_title_pos\n",
      "update_title_pos\n",
      "update_title_pos\n",
      "update_title_pos\n",
      "update_title_pos\n",
      "update_title_pos\n",
      "update_title_pos\n",
      "update_title_pos\n"
     ]
    },
    {
     "data": {
      "image/png": "[encoded data removed]",
      "text/plain": [
       "<Figure size 432x288 with 2 Axes>"
      ]
     },
     "metadata": {},
     "output_type": "display_data"
    }
   ],
   "source": [
    "ax = sns.heatmap(df_A, linewidths=.5)"
   ]
  },
  {
   "cell_type": "code",
   "execution_count": null,
   "metadata": {},
   "outputs": [],
   "source": [
    "sort_columns = ['O', 'B-LOC', 'I-LOC', 'B-ORG', 'I-ORG', 'B-MISC', 'I-MISC', 'B-PER', 'I-PER']\n",
    "sort_index = ['O', 'B-LOC', 'I-LOC', 'B-ORG', 'I-ORG', 'B-MISC', 'I-MISC', 'B-PER', 'I-PER']"
   ]
  }
 ],
 "metadata": {
  "kernelspec": {
   "display_name": "Python 3",
   "language": "python",
   "name": "python3"
  },
  "language_info": {
   "codemirror_mode": {
    "name": "ipython",
    "version": 3
   },
   "file_extension": ".py",
   "mimetype": "text/x-python",
   "name": "python",
   "nbconvert_exporter": "python",
   "pygments_lexer": "ipython3",
   "version": "3.6.3"
  }
 },
 "nbformat": 4,
 "nbformat_minor": 2
}
